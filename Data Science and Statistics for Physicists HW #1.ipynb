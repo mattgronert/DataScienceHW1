{
 "cells": [
  {
   "cell_type": "markdown",
   "id": "442b2f0d",
   "metadata": {},
   "source": [
    "# Matthew Gronert #\n",
    "## 26 September 2022 ##"
   ]
  },
  {
   "cell_type": "markdown",
   "id": "fea3bd54",
   "metadata": {},
   "source": [
    "### Problem 1"
   ]
  },
  {
   "cell_type": "code",
   "execution_count": 1,
   "id": "82eddacc",
   "metadata": {},
   "outputs": [],
   "source": [
    "import numpy as np\n",
    "import matplotlib.pyplot as plt\n",
    "from statistics import mean"
   ]
  },
  {
   "cell_type": "code",
   "execution_count": 2,
   "id": "36de799d",
   "metadata": {},
   "outputs": [],
   "source": [
    "x_data = np.array([201, 244, 47, 287, 203, 58, 210, 202, 198, 158, 165,\n",
    "          201, 157, 131,  166, 160, 186, 125, 218, 146])\n",
    "y_data = np.array([592, 401, 583, 402, 495, 173, 479, 504, 510, 416, 393, 442,\n",
    "          317, 311, 400, 337, 423, 334, 533, 344])\n",
    "sigma_y = np.array([61, 25, 38, 15, 21, 15, 27, 14, 30, 16, 14, 25, 52, 16, 34,\n",
    "           31, 42, 26, 16, 22])"
   ]
  },
  {
   "cell_type": "code",
   "execution_count": 3,
   "id": "4bdc248c",
   "metadata": {},
   "outputs": [],
   "source": [
    "'Only consider data points 6-20'\n",
    "x = x_data[5:]\n",
    "y = y_data[5:]\n",
    "sig = sigma_y[5:]"
   ]
  },
  {
   "cell_type": "code",
   "execution_count": 4,
   "id": "f924d15c",
   "metadata": {},
   "outputs": [],
   "source": [
    "Y = y\n",
    "A = np.array([np.ones(len(x)),x]) #this is really A transpose because of the way numpy works\n",
    "C_in = np.diagflat(1/(sig)**2) "
   ]
  },
  {
   "cell_type": "code",
   "execution_count": 5,
   "id": "3ae67114",
   "metadata": {},
   "outputs": [],
   "source": [
    "X = np.linalg.inv((A@C_in)@A.T)@((A@C_in)@Y)"
   ]
  },
  {
   "cell_type": "code",
   "execution_count": 6,
   "id": "073cb87b",
   "metadata": {},
   "outputs": [],
   "source": [
    "var_m = np.sqrt(np.linalg.inv((A@C_in)@A.T)[1][1])"
   ]
  },
  {
   "cell_type": "code",
   "execution_count": 7,
   "id": "8b5db023",
   "metadata": {},
   "outputs": [
    {
     "name": "stdout",
     "output_type": "stream",
     "text": [
      "For the best fit line we have: m = 2.2325362169534166 ,b = 34.845941313398725 ,and sigma_m =  0.11031991507180255 .\n"
     ]
    }
   ],
   "source": [
    "print('For the best fit line we have:' , 'm =', X[1], ',b =', X[0], ',and sigma_m = ', var_m,'.')"
   ]
  },
  {
   "cell_type": "code",
   "execution_count": 8,
   "id": "0600b935",
   "metadata": {},
   "outputs": [
    {
     "data": {
      "image/png": "[encoded data removed]",
      "text/plain": [
       "<Figure size 432x288 with 1 Axes>"
      ]
     },
     "metadata": {
      "needs_background": "light"
     },
     "output_type": "display_data"
    }
   ],
   "source": [
    "x_axis = np.linspace(0,300)\n",
    "fit = X[1]*x_axis+X[0]\n",
    "\n",
    "fig, ax = plt.subplots()\n",
    "ax.scatter(x,y,10,'k')\n",
    "ax.errorbar( x, y, yerr = sig, fmt = 'None', ecolor = 'k', capsize= 3)\n",
    "ax.plot(x_axis,fit,'k',2)\n",
    "plt.xlim([0,300])\n",
    "plt.ylim([0,700])\n",
    "ax.grid(which = 'minor')\n"
   ]
  },
  {
   "cell_type": "markdown",
   "id": "2a12a4a6",
   "metadata": {},
   "source": [
    "## Problem 2"
   ]
  },
  {
   "cell_type": "code",
   "execution_count": 9,
   "id": "562dd034",
   "metadata": {},
   "outputs": [],
   "source": [
    "'Now consider all of the data.'\n",
    "x = x_data\n",
    "y = y_data\n",
    "sig = sigma_y"
   ]
  },
  {
   "cell_type": "code",
   "execution_count": 10,
   "id": "bcf39899",
   "metadata": {},
   "outputs": [],
   "source": [
    "Y = y\n",
    "A = np.array([np.ones(len(x)),x]) #this is really A transpose because of the way numpy works\n",
    "C_in = np.diagflat(1/(sig)**2) "
   ]
  },
  {
   "cell_type": "code",
   "execution_count": 11,
   "id": "2570f432",
   "metadata": {},
   "outputs": [],
   "source": [
    "X = np.linalg.inv((A@C_in)@A.T)@((A@C_in)@Y)"
   ]
  },
  {
   "cell_type": "code",
   "execution_count": 12,
   "id": "9aa56390",
   "metadata": {},
   "outputs": [],
   "source": [
    "var_m = np.sqrt(np.linalg.inv((A@C_in)@A.T)[1][1])"
   ]
  },
  {
   "cell_type": "code",
   "execution_count": 13,
   "id": "0921d357",
   "metadata": {},
   "outputs": [
    {
     "name": "stdout",
     "output_type": "stream",
     "text": [
      "For the best fit line we have: m = 1.0767475241683258 ,b = 213.2734919759614 ,and sigma_m =  0.0774067831657561 .\n"
     ]
    }
   ],
   "source": [
    "print('For the best fit line we have:' , 'm =', X[1], ',b =', X[0], ',and sigma_m = ', var_m,'.')"
   ]
  },
  {
   "cell_type": "code",
   "execution_count": 14,
   "id": "f8a07e9a",
   "metadata": {},
   "outputs": [
    {
     "data": {
      "image/png": "[encoded data removed]",
      "text/plain": [
       "<Figure size 432x288 with 1 Axes>"
      ]
     },
     "metadata": {
      "needs_background": "light"
     },
     "output_type": "display_data"
    }
   ],
   "source": [
    "x_axis = np.linspace(0,300)\n",
    "fit = X[1]*x_axis+X[0]\n",
    "\n",
    "fig, ax = plt.subplots()\n",
    "ax.scatter(x,y,10,'k')\n",
    "ax.errorbar( x, y, yerr = sig, fmt = 'None', ecolor = 'k', capsize= 3)\n",
    "ax.plot(x_axis,fit,'k',2)\n",
    "plt.xlim([0,300])\n",
    "plt.ylim([0,700])\n",
    "ax.grid(which = 'minor')"
   ]
  },
  {
   "cell_type": "markdown",
   "id": "e051cbc3",
   "metadata": {},
   "source": [
    "The new points included in this anaylsis might be considered \"outliers\". "
   ]
  },
  {
   "cell_type": "markdown",
   "id": "25759ecb",
   "metadata": {},
   "source": [
    "## Problem 3"
   ]
  },
  {
   "cell_type": "code",
   "execution_count": 15,
   "id": "fa221f74",
   "metadata": {},
   "outputs": [],
   "source": [
    "'Do everything from the last two but with a quadratic fit.'\n",
    "x = x_data[5:]\n",
    "y = y_data[5:]\n",
    "sig = sigma_y[5:]"
   ]
  },
  {
   "cell_type": "code",
   "execution_count": 16,
   "id": "28745d53",
   "metadata": {},
   "outputs": [],
   "source": [
    "Y = y\n",
    "A = np.array([np.ones(len(x)),x,x**2]) #this is really A transpose because of the way numpy works\n",
    "C_in = np.diagflat(1/(sig)**2) "
   ]
  },
  {
   "cell_type": "code",
   "execution_count": 17,
   "id": "aace5a59",
   "metadata": {},
   "outputs": [],
   "source": [
    "X = np.linalg.inv((A@C_in)@A.T)@((A@C_in)@Y)"
   ]
  },
  {
   "cell_type": "code",
   "execution_count": 18,
   "id": "41ba236c",
   "metadata": {},
   "outputs": [],
   "source": [
    "var_q = np.sqrt(np.linalg.inv((A@C_in)@A.T)[2][2])"
   ]
  },
  {
   "cell_type": "code",
   "execution_count": 19,
   "id": "9006fc4c",
   "metadata": {},
   "outputs": [
    {
     "name": "stdout",
     "output_type": "stream",
     "text": [
      "For the best fit line we have: q = 0.002254145076158398 ,m = 1.6045304764425055 ,b = 72.57649611682064 ,and sigma_q =  0.002050669814280644 .\n"
     ]
    }
   ],
   "source": [
    "print('For the best fit line we have:' , 'q =', X[2],',m =', X[1], ',b =', X[0], ',and sigma_q = ', var_q,'.')"
   ]
  },
  {
   "cell_type": "code",
   "execution_count": 20,
   "id": "5295b08e",
   "metadata": {},
   "outputs": [
    {
     "data": {
      "image/png": "[encoded data removed]",
      "text/plain": [
       "<Figure size 432x288 with 1 Axes>"
      ]
     },
     "metadata": {
      "needs_background": "light"
     },
     "output_type": "display_data"
    }
   ],
   "source": [
    "x_axis = np.linspace(0,300)\n",
    "fit = X[2]*x_axis**2+X[1]*x_axis+X[0]\n",
    "\n",
    "fig, ax = plt.subplots()\n",
    "ax.scatter(x,y,10,'k')\n",
    "ax.errorbar( x, y, yerr = sig, fmt = 'None', ecolor = 'k', capsize= 3)\n",
    "ax.plot(x_axis,fit,'k',2)\n",
    "plt.xlim([0,300])\n",
    "plt.ylim([0,700])\n",
    "ax.grid(which = 'minor')"
   ]
  },
  {
   "cell_type": "markdown",
   "id": "df15f722",
   "metadata": {},
   "source": [
    "## Problem 8 "
   ]
  },
  {
   "cell_type": "markdown",
   "id": "aca85625",
   "metadata": {},
   "source": [
    "### Implement jackknife and bootstrap to figure sigma^2_m from Problem 2"
   ]
  },
  {
   "cell_type": "code",
   "execution_count": 21,
   "id": "0dd9e992",
   "metadata": {},
   "outputs": [
    {
     "name": "stdout",
     "output_type": "stream",
     "text": [
      "The jackknife method for calculating sigma_m gives sigma_m = 0.08019175395713117\n"
     ]
    }
   ],
   "source": [
    "var=[]\n",
    "for i in range(len(x_data)):\n",
    "    x = np.delete(x_data,i)\n",
    "    y = np.delete(y_data,i)\n",
    "    sig = np.delete(sigma_y,i)\n",
    "    Y = y\n",
    "    A = np.array([np.ones(len(x)),x]) #this is really A transpose because of the way numpy works\n",
    "    C_in = np.diagflat(1/(sig)**2) \n",
    "    var_m = np.sqrt(np.linalg.inv((A@C_in)@A.T)[1][1])\n",
    "    var.append(var_m)\n",
    "print('The jackknife method for calculating sigma_m gives sigma_m =',mean(var))"
   ]
  },
  {
   "cell_type": "code",
   "execution_count": 22,
   "id": "14a4a2c8",
   "metadata": {},
   "outputs": [
    {
     "name": "stdout",
     "output_type": "stream",
     "text": [
      "The bootstrap method for calculating sigma_m gives sigma_m = 0.08284252579282098\n"
     ]
    }
   ],
   "source": [
    "var=[]\n",
    "M = 5\n",
    "N = len(x_data)\n",
    "for k in range(M):\n",
    "    x = np.linspace(0,0,N)\n",
    "    y = np.linspace(0,0,N)\n",
    "    sig = np.linspace(0,0,N)\n",
    "    for i in range(N):\n",
    "        j = np.random.randint(0,19)\n",
    "        x[i] = x_data[j]\n",
    "        y[i] = y_data[j]\n",
    "        sig[i] = sigma_y[j]\n",
    "    Y = y\n",
    "    A = np.array([np.ones(len(x)),x]) #this is really A transpose because of the way numpy works\n",
    "    C_in = np.diagflat(1/(sig)**2) \n",
    "    var_m = np.sqrt(np.linalg.inv((A@C_in)@A.T)[1][1])\n",
    "    var.append(var_m)\n",
    "print('The bootstrap method for calculating sigma_m gives sigma_m =',mean(var))"
   ]
  },
  {
   "cell_type": "markdown",
   "id": "d96092cc",
   "metadata": {},
   "source": [
    "The bootstrap and jackknife methods give similar results for the variance in the slope, so it is difficult to tell which is more 'reasonable' from that alone. However it is notable that for relatively small values of M ~ 10 or slightly less, there is already good agreement with the jackknife method."
   ]
  }
 ],
 "metadata": {
  "kernelspec": {
   "display_name": "Python 3 (ipykernel)",
   "language": "python",
   "name": "python3"
  },
  "language_info": {
   "codemirror_mode": {
    "name": "ipython",
    "version": 3
   },
   "file_extension": ".py",
   "mimetype": "text/x-python",
   "name": "python",
   "nbconvert_exporter": "python",
   "pygments_lexer": "ipython3",
   "version": "3.8.2"
  }
 },
 "nbformat": 4,
 "nbformat_minor": 5
}
