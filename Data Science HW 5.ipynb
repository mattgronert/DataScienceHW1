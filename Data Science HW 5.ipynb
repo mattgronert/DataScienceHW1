{
 "cells": [
  {
   "cell_type": "code",
   "execution_count": 1,
   "id": "138bb662",
   "metadata": {},
   "outputs": [],
   "source": [
    "import numpy as np\n",
    "import matplotlib.pyplot as plt\n",
    "import pickle as pkl\n",
    "from sklearn.gaussian_process import GaussianProcessRegressor\n",
    "from sklearn.gaussian_process.kernels import RBF,Matern"
   ]
  },
  {
   "cell_type": "code",
   "execution_count": 7,
   "id": "de963712",
   "metadata": {},
   "outputs": [],
   "source": [
    "with open(\"data_train.pickle\", \"rb\") as handle:\n",
    "    data_train = pkl.load(handle)"
   ]
  },
  {
   "cell_type": "code",
   "execution_count": 8,
   "id": "498685e4",
   "metadata": {},
   "outputs": [],
   "source": [
    "with open(\"data_val.pickle\", \"rb\") as handle:\n",
    "    data_val = pkl.load(handle)"
   ]
  },
  {
   "cell_type": "markdown",
   "id": "5425b617",
   "metadata": {},
   "source": [
    "## Problem 1\n",
    "Take the Gaia XP data given to you by Jiadong Li. It consists of a set of ESA Gaia Mission BP/RP spectral coefficients, and a set of labels from SDSS-IV APOGEE. These are real data, people, and a real problem. Use linear regression to learn a function that takes as input the BP and RP spectral coefficients and delivers as output the label TEFF, which is the effective temperature of the stars. Instead of using the BP/RP coefficients right out of the box, consider dividing all BP & RP coefficients by the first (zeroth) component of the RP coefficients. Don’t forget to include the number 1 as a regressor (the constant term). Train on the training set and use the validation set to assess your accuracy (RMS maybe or median absolute deviation). Ask questions of Hogg and Jiadong, who know these data well!\n"
   ]
  },
  {
   "cell_type": "code",
   "execution_count": 9,
   "id": "4457cf7e",
   "metadata": {},
   "outputs": [],
   "source": [
    "data = np.column_stack((data_train['bp_coef'],data_train['rp_coef']))"
   ]
  },
  {
   "cell_type": "code",
   "execution_count": 10,
   "id": "c48829a0",
   "metadata": {},
   "outputs": [],
   "source": [
    "data/= data_train['rp_coef'][0][0]"
   ]
  },
  {
   "cell_type": "code",
   "execution_count": 11,
   "id": "51a12cc1",
   "metadata": {},
   "outputs": [],
   "source": [
    "outs = data_train['labels'][:,0]"
   ]
  },
  {
   "cell_type": "code",
   "execution_count": 12,
   "id": "34c8844b",
   "metadata": {},
   "outputs": [],
   "source": [
    "outs  = outs[0:4000]\n",
    "data = data[0:4000]"
   ]
  },
  {
   "cell_type": "code",
   "execution_count": 13,
   "id": "ff068c6f",
   "metadata": {},
   "outputs": [],
   "source": [
    "X_train, y_train = data, outs"
   ]
  },
  {
   "cell_type": "code",
   "execution_count": 14,
   "id": "630ef1e8",
   "metadata": {},
   "outputs": [],
   "source": [
    "X = np.column_stack((data_val['bp_coef'],data_val['rp_coef']))/data_train['rp_coef'][0][0]\n",
    "y = data_val['labels'][:,0]"
   ]
  },
  {
   "cell_type": "code",
   "execution_count": 15,
   "id": "eeb30cd6",
   "metadata": {},
   "outputs": [
    {
     "name": "stderr",
     "output_type": "stream",
     "text": [
      "/Library/Frameworks/Python.framework/Versions/3.8/lib/python3.8/site-packages/sklearn/gaussian_process/kernels.py:430: ConvergenceWarning: The optimal value found for dimension 0 of parameter k1__constant_value is close to the specified upper bound 100000.0. Increasing the bound and calling fit again may find a better value.\n",
      "  warnings.warn(\n",
      "/Library/Frameworks/Python.framework/Versions/3.8/lib/python3.8/site-packages/sklearn/gaussian_process/kernels.py:420: ConvergenceWarning: The optimal value found for dimension 0 of parameter k2__length_scale is close to the specified lower bound 1e-05. Decreasing the bound and calling fit again may find a better value.\n",
      "  warnings.warn(\n"
     ]
    },
    {
     "data": {
      "text/plain": [
       "316**2 * RBF(length_scale=1e-05)"
      ]
     },
     "execution_count": 15,
     "metadata": {},
     "output_type": "execute_result"
    }
   ],
   "source": [
    "kernel = 1 * RBF()\n",
    "gaussian_process = GaussianProcessRegressor(kernel=kernel,n_restarts_optimizer=9)\n",
    "gaussian_process.fit(X_train, y_train)\n",
    "gaussian_process.kernel_"
   ]
  },
  {
   "cell_type": "code",
   "execution_count": 18,
   "id": "c48356a5",
   "metadata": {},
   "outputs": [
    {
     "data": {
      "image/png": "[encoded data removed]",
      "text/plain": [
       "<Figure size 432x288 with 1 Axes>"
      ]
     },
     "metadata": {
      "needs_background": "light"
     },
     "output_type": "display_data"
    }
   ],
   "source": [
    "prediction = gaussian_process.sample_y(X)\n",
    "\n",
    "#plt.scatter(X, y, label=\"Mean Prediction\")\n",
    "plt.scatter(prediction, y, label=\"prediction\")\n",
    "\n",
    "plt.legend()\n",
    "plt.xlabel(\"$x$\")\n",
    "plt.ylabel(\"$f(x)$\")\n",
    "_ = plt.title(\"prediction vs actual value\")"
   ]
  },
  {
   "cell_type": "markdown",
   "id": "d4110b15",
   "metadata": {},
   "source": [
    "Something has really gone wrong here!"
   ]
  },
  {
   "cell_type": "markdown",
   "id": "658e7e92",
   "metadata": {},
   "source": [
    "## Problem 2\n",
    "Now consider only the RP spectral coefficients. Make a linear model to predict TEFF. Then make all quadratic combinations of the RP coefficients and make a linear model of the linear and quadratic combinations to predict TEFF. Can you afford to do cubic too? Once again, divide the coefficients by RP[0] to start. Once again, don’t forget to include the constant term. Train on the training set and use the validation set to assess your accuracy.\n"
   ]
  },
  {
   "cell_type": "code",
   "execution_count": 19,
   "id": "4ad5e302",
   "metadata": {},
   "outputs": [],
   "source": [
    "data = data_train['rp_coef']\n",
    "data/= data_train['rp_coef'][0][0]"
   ]
  },
  {
   "cell_type": "code",
   "execution_count": 20,
   "id": "73dd4afd",
   "metadata": {},
   "outputs": [],
   "source": [
    "outs = data_train['labels'][:,0]"
   ]
  },
  {
   "cell_type": "code",
   "execution_count": 21,
   "id": "38cc6f22",
   "metadata": {},
   "outputs": [],
   "source": [
    "outs = outs[0:4000]\n",
    "data = data[0:4000]"
   ]
  },
  {
   "cell_type": "code",
   "execution_count": 22,
   "id": "0cd67b08",
   "metadata": {},
   "outputs": [],
   "source": [
    "X_train, y_train = data, outs"
   ]
  },
  {
   "cell_type": "code",
   "execution_count": 23,
   "id": "c3aa05fc",
   "metadata": {},
   "outputs": [],
   "source": [
    "X = data_val['rp_coef']/data_train['rp_coef'][0][0]\n",
    "y = data_val['labels'][:,0]"
   ]
  },
  {
   "cell_type": "code",
   "execution_count": null,
   "id": "be66179c",
   "metadata": {},
   "outputs": [],
   "source": [
    "kernel = 1 * RBF( length_scale=1.0, length_scale_bounds=(1e-10, 1e10))\n",
    "gaussian_process = GaussianProcessRegressor(kernel=kernel,n_restarts_optimizer=9)\n",
    "gaussian_process.fit(X_train, y_train)\n",
    "gaussian_process.kernel_"
   ]
  },
  {
   "cell_type": "code",
   "execution_count": null,
   "id": "bb4fd57a",
   "metadata": {},
   "outputs": [],
   "source": [
    "prediction = gaussian_process.sample_y(X)\n",
    "\n",
    "#plt.scatter(X, y, label=\"Mean Prediction\")\n",
    "plt.scatter(prediction, y, label=\"prediction\")\n",
    "\n",
    "plt.legend()\n",
    "plt.xlabel(\"$x$\")\n",
    "plt.ylabel(\"$f(x)$\")\n",
    "_ = plt.title(\"prediction vs actual value\")"
   ]
  },
  {
   "cell_type": "markdown",
   "id": "87f17a77",
   "metadata": {},
   "source": [
    "This really is not going very well!"
   ]
  },
  {
   "cell_type": "markdown",
   "id": "9ea14f75",
   "metadata": {},
   "source": [
    "## Problem 3\n",
    "Fit the famous data set 11 from Problem Set 2, but now with a single Gaussian Process. Choose as your kernel the Matern 3/2 kernel. Use the form of the GP regression shown in class, that involves both the kernel matrix K and the noise covariance C. Plot the GP result by evaluating the GP on a set of test locations which is a fine grid of spacing (say) 0.1 days over a footprint that goes from -50 days to 1075 days (ie, more than the span of the data). Plot the GP result for three different (but all reasonable) values for the Matern kernel width (the hyper-parameter). "
   ]
  },
  {
   "cell_type": "code",
   "execution_count": null,
   "id": "8db9a58f",
   "metadata": {},
   "outputs": [],
   "source": [
    "with open(\"data.pkl\", \"rb\") as handle:\n",
    "    data = pkl.load(handle).T"
   ]
  },
  {
   "cell_type": "code",
   "execution_count": null,
   "id": "11e1f678",
   "metadata": {},
   "outputs": [],
   "source": [
    "x  = data[0]\n",
    "C = 1/data[1]**2\n",
    "y =data[-1]"
   ]
  },
  {
   "cell_type": "code",
   "execution_count": null,
   "id": "2cddf678",
   "metadata": {},
   "outputs": [],
   "source": [
    "kernel = 1.0 * Matern(length_scale=1.0, nu=1.5)\n",
    "gaussian_process = GaussianProcessRegressor(kernel=kernel,n_restarts_optimizer=9)\n",
    "gaussian_process.fit(x.reshape(-1,1), y)\n",
    "gaussian_process.kernel_"
   ]
  },
  {
   "cell_type": "code",
   "execution_count": null,
   "id": "490ce669",
   "metadata": {},
   "outputs": [],
   "source": [
    "x_val = np.linspace(-50,1075,5000)\n",
    "x_val = x_val.reshape(-1,1)\n",
    "prediction = gaussian_process.sample_y(x_val)\n",
    "\n",
    "plt.figure(figsize=(15, 5))\n",
    "plt.errorbar(x, y, yerr = data[1], marker = 'o', color = 'k', alpha = 0.3, label='data')\n",
    "plt.legend(loc='lower right')\n",
    "#plt.scatter(x_val, mean_prediction, label=\"Mean Prediction\")\n",
    "plt.scatter(np.linspace(-50,1075,5000), prediction, label=\"prediction\")\n",
    "# plt.fill_between(\n",
    "#     x_val.ravel(),\n",
    "#     mean_prediction - 1.96 * std_prediction,\n",
    "#     mean_prediction + 1.96 * std_prediction,\n",
    "#     alpha=0.5,\n",
    "#     label=r\"95% confidence interval\",\n",
    "# )\n",
    "plt.legend()\n",
    "plt.xlabel(\"$x$\")\n",
    "plt.ylabel(\"$f(x)$\")\n",
    "_ = plt.title(\"Guassian process on Data Set 11\")\n",
    "plt.show()"
   ]
  },
  {
   "cell_type": "markdown",
   "id": "596698a1",
   "metadata": {},
   "source": [
    "What a mess!"
   ]
  },
  {
   "cell_type": "code",
   "execution_count": null,
   "id": "df96970e",
   "metadata": {},
   "outputs": [],
   "source": []
  }
 ],
 "metadata": {
  "kernelspec": {
   "display_name": "Python 3 (ipykernel)",
   "language": "python",
   "name": "python3"
  },
  "language_info": {
   "codemirror_mode": {
    "name": "ipython",
    "version": 3
   },
   "file_extension": ".py",
   "mimetype": "text/x-python",
   "name": "python",
   "nbconvert_exporter": "python",
   "pygments_lexer": "ipython3",
   "version": "3.8.2"
  }
 },
 "nbformat": 4,
 "nbformat_minor": 5
}
