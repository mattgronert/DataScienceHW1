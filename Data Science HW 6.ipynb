{
 "cells": [
  {
   "cell_type": "markdown",
   "id": "4a7cbd3f",
   "metadata": {},
   "source": [
    "## Problem 2\n",
    "(since this is the only problem)\n",
    "\n",
    " Re-do the regression of Problem Set 5, Problem 1, but now using a neural network. Either build your own, or else use a canned implementation from jax, pytorch, TensorFlow, or scikit-learn. Compare your results to your Problem Set 5 results. The deep learning results will be substantially better, right?\n"
   ]
  },
  {
   "cell_type": "code",
   "execution_count": 39,
   "id": "f10f3325",
   "metadata": {},
   "outputs": [],
   "source": [
    "import numpy as np\n",
    "import matplotlib.pyplot as plt\n",
    "import pickle as pkl\n",
    "from sklearn.neural_network import MLPClassifier\n",
    "from sklearn.preprocessing import StandardScaler  \n",
    "from sklearn import preprocessing"
   ]
  },
  {
   "cell_type": "code",
   "execution_count": 4,
   "id": "16147b06",
   "metadata": {},
   "outputs": [],
   "source": [
    "with open(\"data_train.pickle\", \"rb\") as handle:\n",
    "    data_train = pkl.load(handle)\n",
    "    \n",
    "with open(\"data_val.pickle\", \"rb\") as handle:\n",
    "    data_val = pkl.load(handle)"
   ]
  },
  {
   "cell_type": "code",
   "execution_count": 50,
   "id": "5a16db72",
   "metadata": {},
   "outputs": [],
   "source": [
    "X = np.column_stack((data_train['bp_coef'],data_train['rp_coef']))\n",
    "X/= data_train['rp_coef'][0][0]\n",
    "\n",
    "y = data_train['labels'][:,0]\n",
    "X_test = np.column_stack((data_val['bp_coef'],data_val['rp_coef']))\n",
    "\n",
    "scaler = StandardScaler()  \n",
    "scaler.fit(X)  \n",
    "X_train = scaler.transform(X)  \n",
    "X_test = scaler.transform(X_test)  "
   ]
  },
  {
   "cell_type": "code",
   "execution_count": 51,
   "id": "03fb1b57",
   "metadata": {},
   "outputs": [],
   "source": [
    "le = preprocessing.LabelEncoder()\n",
    "le.fit(y)\n",
    "\n",
    "le.classes_\n",
    "y = le.transform(y)"
   ]
  },
  {
   "cell_type": "code",
   "execution_count": null,
   "id": "b1875dc1",
   "metadata": {},
   "outputs": [],
   "source": [
    "clf = MLPClassifier(solver='lbfgs', alpha=1e-5,\n",
    "                    hidden_layer_sizes=(100, 3), random_state=1)\n",
    "\n",
    "clf.fit(X, y)\n"
   ]
  },
  {
   "cell_type": "code",
   "execution_count": 64,
   "id": "b1b4df68",
   "metadata": {},
   "outputs": [],
   "source": [
    "c = le.inverse_transform(clf.predict(X_test))"
   ]
  },
  {
   "cell_type": "code",
   "execution_count": 65,
   "id": "a921b7d4",
   "metadata": {},
   "outputs": [
    {
     "data": {
      "text/plain": [
       "<matplotlib.collections.PathCollection at 0x7f7fd3563d60>"
      ]
     },
     "execution_count": 65,
     "metadata": {},
     "output_type": "execute_result"
    },
    {
     "data": {
      "image/png": "[encoded data removed]",
      "text/plain": [
       "<Figure size 432x288 with 1 Axes>"
      ]
     },
     "metadata": {
      "needs_background": "light"
     },
     "output_type": "display_data"
    }
   ],
   "source": [
    "plt.scatter(data_val['labels'][:,0],c)"
   ]
  },
  {
   "cell_type": "markdown",
   "id": "82f79813",
   "metadata": {},
   "source": [
    "I think we can agree- this is not so great. But it is also not nothing? We have predicted new labels which are totally reasonable if not stratified. The real values plotted against the predicted values are close to the line y = x (broadly, loosely, casually... speaking). That's something! Thanks for a great course, Hogg. Even if the last two homeworks were lackluster, I defintiely learned useful things in this class than I learned in any course ever. I'm excited to have yet another way of thinking about the world. \n",
    "\n",
    "All the best always,\n",
    "Matt Gronert"
   ]
  },
  {
   "cell_type": "code",
   "execution_count": null,
   "id": "3337b7d7",
   "metadata": {},
   "outputs": [],
   "source": []
  }
 ],
 "metadata": {
  "kernelspec": {
   "display_name": "Python 3 (ipykernel)",
   "language": "python",
   "name": "python3"
  },
  "language_info": {
   "codemirror_mode": {
    "name": "ipython",
    "version": 3
   },
   "file_extension": ".py",
   "mimetype": "text/x-python",
   "name": "python",
   "nbconvert_exporter": "python",
   "pygments_lexer": "ipython3",
   "version": "3.8.2"
  }
 },
 "nbformat": 4,
 "nbformat_minor": 5
}
